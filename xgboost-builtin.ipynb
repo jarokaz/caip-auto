{
 "cells": [
  {
   "cell_type": "markdown",
   "metadata": {},
   "source": [
    "# Using built-in xgboost with AI Platform Training\n",
    "\n",
    "\n",
    "This notebook demonstrates how to use AI Platfrom Training built-in XGBoost algorithm. You will train a multi-class classification model that predicts the type of forest cover from cartographic data. The [dataset](../../../datasets/covertype/README.md) used in the lab is based on **Covertype Data Set** from UCI Machine Learning Repository.\n",
    "\n"
   ]
  },
  {
   "cell_type": "code",
   "execution_count": 1,
   "metadata": {},
   "outputs": [],
   "source": [
    "import json\n",
    "import os\n",
    "import numpy as np\n",
    "import pandas as pd\n",
    "import pickle\n",
    "import uuid\n",
    "import time\n",
    "import tempfile\n",
    "\n",
    "from googleapiclient import discovery\n",
    "from googleapiclient import errors\n",
    "\n",
    "from google.cloud import bigquery\n",
    "from jinja2 import Template\n",
    "from kfp.components import func_to_container_op\n",
    "from typing import NamedTuple\n",
    "\n",
    "from sklearn.metrics import accuracy_score\n",
    "from sklearn.model_selection import train_test_split\n",
    "from sklearn.linear_model import SGDClassifier\n",
    "from sklearn.pipeline import Pipeline\n",
    "from sklearn.preprocessing import StandardScaler, OneHotEncoder\n",
    "from sklearn.compose import ColumnTransformer"
   ]
  },
  {
   "cell_type": "markdown",
   "metadata": {},
   "source": [
    "## Configure environment settings"
   ]
  },
  {
   "cell_type": "markdown",
   "metadata": {},
   "source": [
    "Set location paths, connections strings, and other environment settings. Make sure to update   `REGION`, and `ARTIFACT_STORE`  with the settings reflecting your lab environment. \n",
    "\n",
    "- `REGION` - the compute region for AI Platform Training and Prediction\n",
    "- `ARTIFACT_STORE` - the GCS bucket used for storing data and output from AI Platform Training."
   ]
  },
  {
   "cell_type": "code",
   "execution_count": 2,
   "metadata": {},
   "outputs": [
    {
     "name": "stdout",
     "output_type": "stream",
     "text": [
      "gs://artifacts.mlops-dev-env.appspot.com/\n",
      "gs://dataflow-staging-us-central1-881178567352/\n",
      "gs://dataprep-staging-8484f61e-42ce-4613-908f-3de78ec85e67/\n",
      "gs://hostedkfp-default-qyrlksyfx2/\n",
      "gs://jk-mlops-dev-sandbox/\n",
      "gs://mlops-datasets/\n",
      "gs://mlops-dev-env-kubeflowpipelines-default/\n",
      "gs://mlops-dev-env-staging/\n",
      "gs://mlops-dev-env-us-central1-ml-metadata-kfp/\n",
      "gs://mlops-dev-env.appspot.com/\n",
      "gs://mlops-dev-env_cloudbuild/\n",
      "gs://mlops-dev-workspace/\n",
      "gs://staging.mlops-dev-env.appspot.com/\n"
     ]
    }
   ],
   "source": [
    "!gsutil ls"
   ]
  },
  {
   "cell_type": "code",
   "execution_count": 18,
   "metadata": {},
   "outputs": [],
   "source": [
    "REGION = 'us-central1'\n",
    "ARTIFACT_STORE = 'gs://mlops-dev-workspace/xgboos-demo'\n",
    "\n",
    "PROJECT_ID = !(gcloud config get-value core/project)\n",
    "PROJECT_ID = PROJECT_ID[0]\n",
    "DATA_ROOT='{}/data'.format(ARTIFACT_STORE)\n",
    "JOB_DIR_ROOT='{}/jobs'.format(ARTIFACT_STORE)\n",
    "\n",
    "ORIG_DATASET = 'gs://workshop-datasets/covertype/small/dataset.csv'\n",
    "TRAINING_DATASET = '{}/covertype_preprocessed/dataset.csv'.format(DATA_ROOT)"
   ]
  },
  {
   "cell_type": "markdown",
   "metadata": {},
   "source": [
    "## Prepare the dataset for the built-in XGBoost"
   ]
  },
  {
   "cell_type": "code",
   "execution_count": 49,
   "metadata": {},
   "outputs": [
    {
     "data": {
      "text/html": [
       "<div>\n",
       "<style scoped>\n",
       "    .dataframe tbody tr th:only-of-type {\n",
       "        vertical-align: middle;\n",
       "    }\n",
       "\n",
       "    .dataframe tbody tr th {\n",
       "        vertical-align: top;\n",
       "    }\n",
       "\n",
       "    .dataframe thead th {\n",
       "        text-align: right;\n",
       "    }\n",
       "</style>\n",
       "<table border=\"1\" class=\"dataframe\">\n",
       "  <thead>\n",
       "    <tr style=\"text-align: right;\">\n",
       "      <th></th>\n",
       "      <th>Elevation</th>\n",
       "      <th>Aspect</th>\n",
       "      <th>Slope</th>\n",
       "      <th>Horizontal_Distance_To_Hydrology</th>\n",
       "      <th>Vertical_Distance_To_Hydrology</th>\n",
       "      <th>Horizontal_Distance_To_Roadways</th>\n",
       "      <th>Hillshade_9am</th>\n",
       "      <th>Hillshade_Noon</th>\n",
       "      <th>Hillshade_3pm</th>\n",
       "      <th>Horizontal_Distance_To_Fire_Points</th>\n",
       "      <th>Wilderness_Area</th>\n",
       "      <th>Soil_Type</th>\n",
       "      <th>Cover_Type</th>\n",
       "    </tr>\n",
       "  </thead>\n",
       "  <tbody>\n",
       "    <tr>\n",
       "      <th>0</th>\n",
       "      <td>3142</td>\n",
       "      <td>183</td>\n",
       "      <td>9</td>\n",
       "      <td>648</td>\n",
       "      <td>101</td>\n",
       "      <td>757</td>\n",
       "      <td>223</td>\n",
       "      <td>247</td>\n",
       "      <td>157</td>\n",
       "      <td>1871</td>\n",
       "      <td>Commanche</td>\n",
       "      <td>C7757</td>\n",
       "      <td>1</td>\n",
       "    </tr>\n",
       "    <tr>\n",
       "      <th>1</th>\n",
       "      <td>2156</td>\n",
       "      <td>18</td>\n",
       "      <td>28</td>\n",
       "      <td>0</td>\n",
       "      <td>0</td>\n",
       "      <td>1207</td>\n",
       "      <td>187</td>\n",
       "      <td>170</td>\n",
       "      <td>107</td>\n",
       "      <td>960</td>\n",
       "      <td>Cache</td>\n",
       "      <td>C6102</td>\n",
       "      <td>3</td>\n",
       "    </tr>\n",
       "    <tr>\n",
       "      <th>2</th>\n",
       "      <td>1967</td>\n",
       "      <td>124</td>\n",
       "      <td>16</td>\n",
       "      <td>60</td>\n",
       "      <td>9</td>\n",
       "      <td>124</td>\n",
       "      <td>245</td>\n",
       "      <td>227</td>\n",
       "      <td>105</td>\n",
       "      <td>451</td>\n",
       "      <td>Cache</td>\n",
       "      <td>C2704</td>\n",
       "      <td>2</td>\n",
       "    </tr>\n",
       "    <tr>\n",
       "      <th>3</th>\n",
       "      <td>3237</td>\n",
       "      <td>305</td>\n",
       "      <td>15</td>\n",
       "      <td>663</td>\n",
       "      <td>19</td>\n",
       "      <td>3593</td>\n",
       "      <td>178</td>\n",
       "      <td>231</td>\n",
       "      <td>193</td>\n",
       "      <td>1260</td>\n",
       "      <td>Commanche</td>\n",
       "      <td>C7201</td>\n",
       "      <td>0</td>\n",
       "    </tr>\n",
       "    <tr>\n",
       "      <th>4</th>\n",
       "      <td>2981</td>\n",
       "      <td>221</td>\n",
       "      <td>18</td>\n",
       "      <td>150</td>\n",
       "      <td>14</td>\n",
       "      <td>4584</td>\n",
       "      <td>195</td>\n",
       "      <td>254</td>\n",
       "      <td>191</td>\n",
       "      <td>1822</td>\n",
       "      <td>Rawah</td>\n",
       "      <td>C7745</td>\n",
       "      <td>0</td>\n",
       "    </tr>\n",
       "    <tr>\n",
       "      <th>...</th>\n",
       "      <td>...</td>\n",
       "      <td>...</td>\n",
       "      <td>...</td>\n",
       "      <td>...</td>\n",
       "      <td>...</td>\n",
       "      <td>...</td>\n",
       "      <td>...</td>\n",
       "      <td>...</td>\n",
       "      <td>...</td>\n",
       "      <td>...</td>\n",
       "      <td>...</td>\n",
       "      <td>...</td>\n",
       "      <td>...</td>\n",
       "    </tr>\n",
       "    <tr>\n",
       "      <th>99995</th>\n",
       "      <td>2710</td>\n",
       "      <td>245</td>\n",
       "      <td>10</td>\n",
       "      <td>175</td>\n",
       "      <td>41</td>\n",
       "      <td>417</td>\n",
       "      <td>200</td>\n",
       "      <td>248</td>\n",
       "      <td>185</td>\n",
       "      <td>335</td>\n",
       "      <td>Rawah</td>\n",
       "      <td>C7746</td>\n",
       "      <td>1</td>\n",
       "    </tr>\n",
       "    <tr>\n",
       "      <th>99996</th>\n",
       "      <td>2854</td>\n",
       "      <td>99</td>\n",
       "      <td>9</td>\n",
       "      <td>60</td>\n",
       "      <td>12</td>\n",
       "      <td>2581</td>\n",
       "      <td>235</td>\n",
       "      <td>228</td>\n",
       "      <td>123</td>\n",
       "      <td>2160</td>\n",
       "      <td>Rawah</td>\n",
       "      <td>C7745</td>\n",
       "      <td>1</td>\n",
       "    </tr>\n",
       "    <tr>\n",
       "      <th>99997</th>\n",
       "      <td>2936</td>\n",
       "      <td>64</td>\n",
       "      <td>7</td>\n",
       "      <td>285</td>\n",
       "      <td>23</td>\n",
       "      <td>4808</td>\n",
       "      <td>227</td>\n",
       "      <td>226</td>\n",
       "      <td>133</td>\n",
       "      <td>2804</td>\n",
       "      <td>Rawah</td>\n",
       "      <td>C7745</td>\n",
       "      <td>0</td>\n",
       "    </tr>\n",
       "    <tr>\n",
       "      <th>99998</th>\n",
       "      <td>2602</td>\n",
       "      <td>98</td>\n",
       "      <td>7</td>\n",
       "      <td>379</td>\n",
       "      <td>74</td>\n",
       "      <td>691</td>\n",
       "      <td>232</td>\n",
       "      <td>230</td>\n",
       "      <td>130</td>\n",
       "      <td>1445</td>\n",
       "      <td>Commanche</td>\n",
       "      <td>C2703</td>\n",
       "      <td>5</td>\n",
       "    </tr>\n",
       "    <tr>\n",
       "      <th>99999</th>\n",
       "      <td>3303</td>\n",
       "      <td>57</td>\n",
       "      <td>10</td>\n",
       "      <td>0</td>\n",
       "      <td>0</td>\n",
       "      <td>2197</td>\n",
       "      <td>227</td>\n",
       "      <td>219</td>\n",
       "      <td>125</td>\n",
       "      <td>2832</td>\n",
       "      <td>Rawah</td>\n",
       "      <td>C8772</td>\n",
       "      <td>6</td>\n",
       "    </tr>\n",
       "  </tbody>\n",
       "</table>\n",
       "<p>100000 rows × 13 columns</p>\n",
       "</div>"
      ],
      "text/plain": [
       "       Elevation  Aspect  Slope  Horizontal_Distance_To_Hydrology  \\\n",
       "0           3142     183      9                               648   \n",
       "1           2156      18     28                                 0   \n",
       "2           1967     124     16                                60   \n",
       "3           3237     305     15                               663   \n",
       "4           2981     221     18                               150   \n",
       "...          ...     ...    ...                               ...   \n",
       "99995       2710     245     10                               175   \n",
       "99996       2854      99      9                                60   \n",
       "99997       2936      64      7                               285   \n",
       "99998       2602      98      7                               379   \n",
       "99999       3303      57     10                                 0   \n",
       "\n",
       "       Vertical_Distance_To_Hydrology  Horizontal_Distance_To_Roadways  \\\n",
       "0                                 101                              757   \n",
       "1                                   0                             1207   \n",
       "2                                   9                              124   \n",
       "3                                  19                             3593   \n",
       "4                                  14                             4584   \n",
       "...                               ...                              ...   \n",
       "99995                              41                              417   \n",
       "99996                              12                             2581   \n",
       "99997                              23                             4808   \n",
       "99998                              74                              691   \n",
       "99999                               0                             2197   \n",
       "\n",
       "       Hillshade_9am  Hillshade_Noon  Hillshade_3pm  \\\n",
       "0                223             247            157   \n",
       "1                187             170            107   \n",
       "2                245             227            105   \n",
       "3                178             231            193   \n",
       "4                195             254            191   \n",
       "...              ...             ...            ...   \n",
       "99995            200             248            185   \n",
       "99996            235             228            123   \n",
       "99997            227             226            133   \n",
       "99998            232             230            130   \n",
       "99999            227             219            125   \n",
       "\n",
       "       Horizontal_Distance_To_Fire_Points Wilderness_Area Soil_Type  \\\n",
       "0                                    1871       Commanche     C7757   \n",
       "1                                     960           Cache     C6102   \n",
       "2                                     451           Cache     C2704   \n",
       "3                                    1260       Commanche     C7201   \n",
       "4                                    1822           Rawah     C7745   \n",
       "...                                   ...             ...       ...   \n",
       "99995                                 335           Rawah     C7746   \n",
       "99996                                2160           Rawah     C7745   \n",
       "99997                                2804           Rawah     C7745   \n",
       "99998                                1445       Commanche     C2703   \n",
       "99999                                2832           Rawah     C8772   \n",
       "\n",
       "       Cover_Type  \n",
       "0               1  \n",
       "1               3  \n",
       "2               2  \n",
       "3               0  \n",
       "4               0  \n",
       "...           ...  \n",
       "99995           1  \n",
       "99996           1  \n",
       "99997           0  \n",
       "99998           5  \n",
       "99999           6  \n",
       "\n",
       "[100000 rows x 13 columns]"
      ]
     },
     "execution_count": 49,
     "metadata": {},
     "output_type": "execute_result"
    }
   ],
   "source": [
    "df = pd.read_csv(DATASET)\n",
    "df"
   ]
  },
  {
   "cell_type": "markdown",
   "metadata": {},
   "source": [
    "### Convert numeric features to floats"
   ]
  },
  {
   "cell_type": "code",
   "execution_count": 50,
   "metadata": {},
   "outputs": [],
   "source": [
    "numeric_feature_indexes = slice(0, 10)\n",
    "num_features_type_map = {feature: 'float64' for feature in df_training.columns[numeric_feature_indexes]}\n",
    "\n",
    "df_training = df.astype(num_features_type_map)"
   ]
  },
  {
   "cell_type": "markdown",
   "metadata": {},
   "source": [
    "### Move the target column  to the first position"
   ]
  },
  {
   "cell_type": "code",
   "execution_count": 51,
   "metadata": {},
   "outputs": [
    {
     "data": {
      "text/html": [
       "<div>\n",
       "<style scoped>\n",
       "    .dataframe tbody tr th:only-of-type {\n",
       "        vertical-align: middle;\n",
       "    }\n",
       "\n",
       "    .dataframe tbody tr th {\n",
       "        vertical-align: top;\n",
       "    }\n",
       "\n",
       "    .dataframe thead th {\n",
       "        text-align: right;\n",
       "    }\n",
       "</style>\n",
       "<table border=\"1\" class=\"dataframe\">\n",
       "  <thead>\n",
       "    <tr style=\"text-align: right;\">\n",
       "      <th></th>\n",
       "      <th>Cover_Type</th>\n",
       "      <th>Elevation</th>\n",
       "      <th>Aspect</th>\n",
       "      <th>Slope</th>\n",
       "      <th>Horizontal_Distance_To_Hydrology</th>\n",
       "      <th>Vertical_Distance_To_Hydrology</th>\n",
       "      <th>Horizontal_Distance_To_Roadways</th>\n",
       "      <th>Hillshade_9am</th>\n",
       "      <th>Hillshade_Noon</th>\n",
       "      <th>Hillshade_3pm</th>\n",
       "      <th>Horizontal_Distance_To_Fire_Points</th>\n",
       "      <th>Wilderness_Area</th>\n",
       "      <th>Soil_Type</th>\n",
       "    </tr>\n",
       "  </thead>\n",
       "  <tbody>\n",
       "    <tr>\n",
       "      <th>0</th>\n",
       "      <td>1</td>\n",
       "      <td>3142.0</td>\n",
       "      <td>183.0</td>\n",
       "      <td>9.0</td>\n",
       "      <td>648.0</td>\n",
       "      <td>101.0</td>\n",
       "      <td>757.0</td>\n",
       "      <td>223.0</td>\n",
       "      <td>247.0</td>\n",
       "      <td>157.0</td>\n",
       "      <td>1871.0</td>\n",
       "      <td>Commanche</td>\n",
       "      <td>C7757</td>\n",
       "    </tr>\n",
       "    <tr>\n",
       "      <th>1</th>\n",
       "      <td>3</td>\n",
       "      <td>2156.0</td>\n",
       "      <td>18.0</td>\n",
       "      <td>28.0</td>\n",
       "      <td>0.0</td>\n",
       "      <td>0.0</td>\n",
       "      <td>1207.0</td>\n",
       "      <td>187.0</td>\n",
       "      <td>170.0</td>\n",
       "      <td>107.0</td>\n",
       "      <td>960.0</td>\n",
       "      <td>Cache</td>\n",
       "      <td>C6102</td>\n",
       "    </tr>\n",
       "    <tr>\n",
       "      <th>2</th>\n",
       "      <td>2</td>\n",
       "      <td>1967.0</td>\n",
       "      <td>124.0</td>\n",
       "      <td>16.0</td>\n",
       "      <td>60.0</td>\n",
       "      <td>9.0</td>\n",
       "      <td>124.0</td>\n",
       "      <td>245.0</td>\n",
       "      <td>227.0</td>\n",
       "      <td>105.0</td>\n",
       "      <td>451.0</td>\n",
       "      <td>Cache</td>\n",
       "      <td>C2704</td>\n",
       "    </tr>\n",
       "    <tr>\n",
       "      <th>3</th>\n",
       "      <td>0</td>\n",
       "      <td>3237.0</td>\n",
       "      <td>305.0</td>\n",
       "      <td>15.0</td>\n",
       "      <td>663.0</td>\n",
       "      <td>19.0</td>\n",
       "      <td>3593.0</td>\n",
       "      <td>178.0</td>\n",
       "      <td>231.0</td>\n",
       "      <td>193.0</td>\n",
       "      <td>1260.0</td>\n",
       "      <td>Commanche</td>\n",
       "      <td>C7201</td>\n",
       "    </tr>\n",
       "    <tr>\n",
       "      <th>4</th>\n",
       "      <td>0</td>\n",
       "      <td>2981.0</td>\n",
       "      <td>221.0</td>\n",
       "      <td>18.0</td>\n",
       "      <td>150.0</td>\n",
       "      <td>14.0</td>\n",
       "      <td>4584.0</td>\n",
       "      <td>195.0</td>\n",
       "      <td>254.0</td>\n",
       "      <td>191.0</td>\n",
       "      <td>1822.0</td>\n",
       "      <td>Rawah</td>\n",
       "      <td>C7745</td>\n",
       "    </tr>\n",
       "    <tr>\n",
       "      <th>...</th>\n",
       "      <td>...</td>\n",
       "      <td>...</td>\n",
       "      <td>...</td>\n",
       "      <td>...</td>\n",
       "      <td>...</td>\n",
       "      <td>...</td>\n",
       "      <td>...</td>\n",
       "      <td>...</td>\n",
       "      <td>...</td>\n",
       "      <td>...</td>\n",
       "      <td>...</td>\n",
       "      <td>...</td>\n",
       "      <td>...</td>\n",
       "    </tr>\n",
       "    <tr>\n",
       "      <th>99995</th>\n",
       "      <td>1</td>\n",
       "      <td>2710.0</td>\n",
       "      <td>245.0</td>\n",
       "      <td>10.0</td>\n",
       "      <td>175.0</td>\n",
       "      <td>41.0</td>\n",
       "      <td>417.0</td>\n",
       "      <td>200.0</td>\n",
       "      <td>248.0</td>\n",
       "      <td>185.0</td>\n",
       "      <td>335.0</td>\n",
       "      <td>Rawah</td>\n",
       "      <td>C7746</td>\n",
       "    </tr>\n",
       "    <tr>\n",
       "      <th>99996</th>\n",
       "      <td>1</td>\n",
       "      <td>2854.0</td>\n",
       "      <td>99.0</td>\n",
       "      <td>9.0</td>\n",
       "      <td>60.0</td>\n",
       "      <td>12.0</td>\n",
       "      <td>2581.0</td>\n",
       "      <td>235.0</td>\n",
       "      <td>228.0</td>\n",
       "      <td>123.0</td>\n",
       "      <td>2160.0</td>\n",
       "      <td>Rawah</td>\n",
       "      <td>C7745</td>\n",
       "    </tr>\n",
       "    <tr>\n",
       "      <th>99997</th>\n",
       "      <td>0</td>\n",
       "      <td>2936.0</td>\n",
       "      <td>64.0</td>\n",
       "      <td>7.0</td>\n",
       "      <td>285.0</td>\n",
       "      <td>23.0</td>\n",
       "      <td>4808.0</td>\n",
       "      <td>227.0</td>\n",
       "      <td>226.0</td>\n",
       "      <td>133.0</td>\n",
       "      <td>2804.0</td>\n",
       "      <td>Rawah</td>\n",
       "      <td>C7745</td>\n",
       "    </tr>\n",
       "    <tr>\n",
       "      <th>99998</th>\n",
       "      <td>5</td>\n",
       "      <td>2602.0</td>\n",
       "      <td>98.0</td>\n",
       "      <td>7.0</td>\n",
       "      <td>379.0</td>\n",
       "      <td>74.0</td>\n",
       "      <td>691.0</td>\n",
       "      <td>232.0</td>\n",
       "      <td>230.0</td>\n",
       "      <td>130.0</td>\n",
       "      <td>1445.0</td>\n",
       "      <td>Commanche</td>\n",
       "      <td>C2703</td>\n",
       "    </tr>\n",
       "    <tr>\n",
       "      <th>99999</th>\n",
       "      <td>6</td>\n",
       "      <td>3303.0</td>\n",
       "      <td>57.0</td>\n",
       "      <td>10.0</td>\n",
       "      <td>0.0</td>\n",
       "      <td>0.0</td>\n",
       "      <td>2197.0</td>\n",
       "      <td>227.0</td>\n",
       "      <td>219.0</td>\n",
       "      <td>125.0</td>\n",
       "      <td>2832.0</td>\n",
       "      <td>Rawah</td>\n",
       "      <td>C8772</td>\n",
       "    </tr>\n",
       "  </tbody>\n",
       "</table>\n",
       "<p>100000 rows × 13 columns</p>\n",
       "</div>"
      ],
      "text/plain": [
       "       Cover_Type  Elevation  Aspect  Slope  Horizontal_Distance_To_Hydrology  \\\n",
       "0               1     3142.0   183.0    9.0                             648.0   \n",
       "1               3     2156.0    18.0   28.0                               0.0   \n",
       "2               2     1967.0   124.0   16.0                              60.0   \n",
       "3               0     3237.0   305.0   15.0                             663.0   \n",
       "4               0     2981.0   221.0   18.0                             150.0   \n",
       "...           ...        ...     ...    ...                               ...   \n",
       "99995           1     2710.0   245.0   10.0                             175.0   \n",
       "99996           1     2854.0    99.0    9.0                              60.0   \n",
       "99997           0     2936.0    64.0    7.0                             285.0   \n",
       "99998           5     2602.0    98.0    7.0                             379.0   \n",
       "99999           6     3303.0    57.0   10.0                               0.0   \n",
       "\n",
       "       Vertical_Distance_To_Hydrology  Horizontal_Distance_To_Roadways  \\\n",
       "0                               101.0                            757.0   \n",
       "1                                 0.0                           1207.0   \n",
       "2                                 9.0                            124.0   \n",
       "3                                19.0                           3593.0   \n",
       "4                                14.0                           4584.0   \n",
       "...                               ...                              ...   \n",
       "99995                            41.0                            417.0   \n",
       "99996                            12.0                           2581.0   \n",
       "99997                            23.0                           4808.0   \n",
       "99998                            74.0                            691.0   \n",
       "99999                             0.0                           2197.0   \n",
       "\n",
       "       Hillshade_9am  Hillshade_Noon  Hillshade_3pm  \\\n",
       "0              223.0           247.0          157.0   \n",
       "1              187.0           170.0          107.0   \n",
       "2              245.0           227.0          105.0   \n",
       "3              178.0           231.0          193.0   \n",
       "4              195.0           254.0          191.0   \n",
       "...              ...             ...            ...   \n",
       "99995          200.0           248.0          185.0   \n",
       "99996          235.0           228.0          123.0   \n",
       "99997          227.0           226.0          133.0   \n",
       "99998          232.0           230.0          130.0   \n",
       "99999          227.0           219.0          125.0   \n",
       "\n",
       "       Horizontal_Distance_To_Fire_Points Wilderness_Area Soil_Type  \n",
       "0                                  1871.0       Commanche     C7757  \n",
       "1                                   960.0           Cache     C6102  \n",
       "2                                   451.0           Cache     C2704  \n",
       "3                                  1260.0       Commanche     C7201  \n",
       "4                                  1822.0           Rawah     C7745  \n",
       "...                                   ...             ...       ...  \n",
       "99995                               335.0           Rawah     C7746  \n",
       "99996                              2160.0           Rawah     C7745  \n",
       "99997                              2804.0           Rawah     C7745  \n",
       "99998                              1445.0       Commanche     C2703  \n",
       "99999                              2832.0           Rawah     C8772  \n",
       "\n",
       "[100000 rows x 13 columns]"
      ]
     },
     "execution_count": 51,
     "metadata": {},
     "output_type": "execute_result"
    }
   ],
   "source": [
    "columns = list(df.columns)\n",
    "columns.insert(0, columns.pop(columns.index('Cover_Type')))\n",
    "\n",
    "df_training = df_training.reindex(columns=columns)\n",
    "df_training"
   ]
  },
  {
   "cell_type": "code",
   "execution_count": 52,
   "metadata": {},
   "outputs": [],
   "source": [
    "df_training.to_csv(TRAINING_DATASET, header=False, index=False)"
   ]
  },
  {
   "cell_type": "code",
   "execution_count": 57,
   "metadata": {},
   "outputs": [
    {
     "name": "stdout",
     "output_type": "stream",
     "text": [
      "1,3142.0,183.0,9.0,648.0,101.0,757.0,223.0,247.0,157.0,1871.0,Commanche,C7757\n",
      "3,2156.0,18.0,28.0,0.0,0.0,1207.0,187.0,170.0,107.0,960.0,Cache,C6102\n",
      "2,1967.0,124.0,16.0,60.0,9.0,124.0,245.0,227.0,105.0,451.0,Cache,C2704\n",
      "0,3237.0,305.0,15.0,663.0,19.0,3593.0,178.0,231.0,193.0,1260.0,Commanche,C7201\n"
     ]
    }
   ],
   "source": [
    "!gsutil cat -r 0-297 {TRAINING_DATASET}"
   ]
  },
  {
   "cell_type": "markdown",
   "metadata": {},
   "source": [
    "## Configure and submit the training job"
   ]
  },
  {
   "cell_type": "code",
   "execution_count": 34,
   "metadata": {},
   "outputs": [],
   "source": [
    "IMAGE_URI = 'gcr.io/cloud-ml-algos/boosted_trees:latest'\n",
    "DATASET_NAME = 'covertype'\n",
    "ALGORITHM = 'xgboost'\n",
    "MODEL_TYPE = 'classification'\n",
    "MODEL_NAME = '{}_{}_{}'.format(DATASET_NAME, ALGORITHM, MODEL_TYPE)\n",
    "\n",
    "JOB_NAME = 'JOB_{}'.format(time.strftime(\"%Y%m%d_%H%M%S\"))\n",
    "JOB_DIR = '{}/{}'.format(JOB_DIR_ROOT, JOB_NAME)\n",
    "SCALE_TIER = 'CUSTOM'\n",
    "MASTER_TYPE = 'n1-standard-16'"
   ]
  },
  {
   "cell_type": "code",
   "execution_count": 35,
   "metadata": {},
   "outputs": [
    {
     "name": "stdout",
     "output_type": "stream",
     "text": [
      "Job [JOB_20200623_023851] submitted successfully.\n",
      "Your job is still active. You may view the status of your job with the command\n",
      "\n",
      "  $ gcloud ai-platform jobs describe JOB_20200623_023851\n",
      "\n",
      "or continue streaming the logs with the command\n",
      "\n",
      "  $ gcloud ai-platform jobs stream-logs JOB_20200623_023851\n",
      "jobId: JOB_20200623_023851\n",
      "state: QUEUED\n"
     ]
    }
   ],
   "source": [
    "!gcloud ai-platform jobs submit training {JOB_NAME} \\\n",
    "--master-image-uri={IMAGE_URI} \\\n",
    "--scale-tier={SCALE_TIER} \\\n",
    "--master-machine-type={MASTER_TYPE} \\\n",
    "--job-dir={JOB_DIR} \\\n",
    "--region={REGION} \\\n",
    "-- \\\n",
    "--preprocess \\\n",
    "--objective=multi:softmax \\\n",
    "--training_data_path={TRAINING_DATASET}"
   ]
  },
  {
   "cell_type": "markdown",
   "metadata": {},
   "source": [
    "## Monitor the job"
   ]
  },
  {
   "cell_type": "code",
   "execution_count": 36,
   "metadata": {},
   "outputs": [
    {
     "name": "stdout",
     "output_type": "stream",
     "text": [
      "createTime: '2020-06-23T02:38:53Z'\n",
      "etag: YuJUed5ydNQ=\n",
      "jobId: JOB_20200623_023851\n",
      "state: PREPARING\n",
      "trainingInput:\n",
      "  args:\n",
      "  - --preprocess\n",
      "  - --objective=multi:softmax\n",
      "  - --training_data_path=gs://mlops-dev-workspace/xgboos-demo/data/covertype_preprocessed/dataset.csv\n",
      "  jobDir: gs://mlops-dev-workspace/xgboos-demo/jobs/JOB_20200623_023851\n",
      "  masterConfig:\n",
      "    imageUri: gcr.io/cloud-ml-algos/boosted_trees:latest\n",
      "  masterType: n1-standard-16\n",
      "  region: us-central1\n",
      "  scaleTier: CUSTOM\n",
      "trainingOutput:\n",
      "  builtInAlgorithmOutput:\n",
      "    framework: XGBOOST\n",
      "    pythonVersion: '2.7'\n",
      "    runtimeVersion: '1.14'\n",
      "  isBuiltInAlgorithmJob: true\n",
      "\n",
      "View job in the Cloud Console at:\n",
      "https://console.cloud.google.com/mlengine/jobs/JOB_20200623_023851?project=mlops-dev-env\n",
      "\n",
      "View logs at:\n",
      "https://console.cloud.google.com/logs?resource=ml.googleapis.com%2Fjob_id%2FJOB_20200623_023851&project=mlops-dev-env\n"
     ]
    }
   ],
   "source": [
    "!gcloud ai-platform jobs describe $JOB_NAME"
   ]
  },
  {
   "cell_type": "code",
   "execution_count": 37,
   "metadata": {},
   "outputs": [
    {
     "name": "stdout",
     "output_type": "stream",
     "text": [
      "INFO\t2020-06-23 02:38:53 +0000\tservice\t\tValidating job requirements...\n",
      "INFO\t2020-06-23 02:38:53 +0000\tservice\t\tJob creation request has been successfully validated.\n",
      "INFO\t2020-06-23 02:38:54 +0000\tservice\t\tJob JOB_20200623_023851 is queued.\n",
      "INFO\t2020-06-23 02:38:54 +0000\tservice\t\tWaiting for job to be provisioned.\n",
      "INFO\t2020-06-23 02:38:55 +0000\tservice\t\tWaiting for training program to start.\n",
      "INFO\t2020-06-23 02:40:54 +0000\tmaster-replica-0\t\tDownloading data.\n",
      "INFO\t2020-06-23 02:40:55 +0000\tmaster-replica-0\t\tFile gs://mlops-dev-workspace/xgboos-demo/data/covertype_preprocessed/dataset.csv was downloaded\n",
      "INFO\t2020-06-23 02:40:55 +0000\tmaster-replica-0\t\tProcessing data\n",
      "INFO\t2020-06-23 02:40:55 +0000\tmaster-replica-0\t\tReading raw data file: /root/temp/training.csv\n",
      "INFO\t2020-06-23 02:40:55 +0000\tmaster-replica-0\t\tSplitting data...\n",
      "INFO\t2020-06-23 02:40:55 +0000\tmaster-replica-0\t\tRemoving rows with many missing values...\n",
      "INFO\t2020-06-23 02:40:55 +0000\tmaster-replica-0\t\tAnalyzing data...\n",
      "INFO\t2020-06-23 02:40:55 +0000\tmaster-replica-0\t\tTransforming data...\n",
      "INFO\t2020-06-23 02:40:55 +0000\tmaster-replica-0\t\tThe column col_09 is being one hot encoded\n",
      "INFO\t2020-06-23 02:42:56 +0000\tmaster-replica-0\t\tThe column col_08 is being one hot encoded\n",
      "INFO\t2020-06-23 02:43:12 +0000\tmaster-replica-0\t\tThe column col_11 is being one hot encoded\n",
      "INFO\t2020-06-23 02:43:19 +0000\tmaster-replica-0\t\tThe column col_03 is being one hot encoded\n",
      "INFO\t2020-06-23 02:43:46 +0000\tmaster-replica-0\t\tThe column col_02 is being one hot encoded\n",
      "INFO\t2020-06-23 02:43:54 +0000\tmaster-replica-0\t\tThe column col_01 is being one hot encoded\n",
      "INFO\t2020-06-23 02:44:18 +0000\tmaster-replica-0\t\tThe column col_00 is being one hot encoded\n",
      "INFO\t2020-06-23 02:46:14 +0000\tmaster-replica-0\t\tThe column col_07 is being one hot encoded\n",
      "INFO\t2020-06-23 02:46:31 +0000\tmaster-replica-0\t\tThe column col_06 is being one hot encoded\n",
      "INFO\t2020-06-23 02:46:49 +0000\tmaster-replica-0\t\tThe column col_05 is being one hot encoded\n",
      "INFO\t2020-06-23 02:48:03 +0000\tservice\t\tJob cancelled.\n"
     ]
    }
   ],
   "source": [
    "!gcloud ai-platform jobs stream-logs $JOB_NAME"
   ]
  },
  {
   "cell_type": "markdown",
   "metadata": {},
   "source": [
    "## Configure and submit the hyperparameter tuning job"
   ]
  },
  {
   "cell_type": "markdown",
   "metadata": {},
   "source": [
    "### Create the hyperparameter configuration file. \n",
    "\n",
    "\n",
    "The below file configures AI Platform hypertuning to run up to 6 trials on up to three nodes and to choose from two discrete values of `max_iter` and the linear range betwee 0.00001 and 0.001 for `alpha`."
   ]
  },
  {
   "cell_type": "code",
   "execution_count": null,
   "metadata": {},
   "outputs": [],
   "source": [
    "%%writefile {TRAINING_APP_FOLDER}/hptuning_config.yaml\n",
    "\n",
    "# Copyright 2019 Google Inc. All Rights Reserved.\n",
    "#\n",
    "# Licensed under the Apache License, Version 2.0 (the \"License\");\n",
    "# you may not use this file except in compliance with the License.\n",
    "# You may obtain a copy of the License at\n",
    "#\n",
    "#            http://www.apache.org/licenses/LICENSE-2.0\n",
    "#\n",
    "# Unless required by applicable law or agreed to in writing, software\n",
    "# distributed under the License is distributed on an \"AS IS\" BASIS,\n",
    "# WITHOUT WARRANTIES OR CONDITIONS OF ANY KIND, either express or implied.\n",
    "# See the License for the specific language governing permissions and\n",
    "# limitations under the License.\n",
    "\n",
    "trainingInput:\n",
    "  hyperparameters:\n",
    "    goal: MAXIMIZE\n",
    "    maxTrials: 4\n",
    "    maxParallelTrials: 4\n",
    "    hyperparameterMetricTag: accuracy\n",
    "    enableTrialEarlyStopping: TRUE \n",
    "    params:\n",
    "    - parameterName: max_iter\n",
    "      type: DISCRETE\n",
    "      discreteValues: [\n",
    "          200,\n",
    "          500\n",
    "          ]\n",
    "    - parameterName: alpha\n",
    "      type: DOUBLE\n",
    "      minValue:  0.00001\n",
    "      maxValue:  0.001\n",
    "      scaleType: UNIT_LINEAR_SCALE"
   ]
  },
  {
   "cell_type": "markdown",
   "metadata": {},
   "source": [
    "### Start the hyperparameter tuning job.\n",
    "\n",
    "Use the `gcloud` command to start the hyperparameter tuning job."
   ]
  },
  {
   "cell_type": "code",
   "execution_count": null,
   "metadata": {},
   "outputs": [],
   "source": [
    "JOB_NAME = \"JOB_{}\".format(time.strftime(\"%Y%m%d_%H%M%S\"))\n",
    "JOB_DIR = \"{}/{}\".format(JOB_DIR_ROOT, JOB_NAME)\n",
    "SCALE_TIER = \"BASIC\"\n",
    "\n",
    "!gcloud ai-platform jobs submit training $JOB_NAME \\\n",
    "--region=$REGION \\\n",
    "--job-dir=$JOB_DIR \\\n",
    "--master-image-uri=$IMAGE_URI \\\n",
    "--scale-tier=$SCALE_TIER \\\n",
    "--config $TRAINING_APP_FOLDER/hptuning_config.yaml \\\n",
    "-- \\\n",
    "--training_dataset_path=$TRAINING_FILE_PATH \\\n",
    "--validation_dataset_path=$VALIDATION_FILE_PATH \\\n",
    "--hptune"
   ]
  },
  {
   "cell_type": "markdown",
   "metadata": {},
   "source": [
    "### Monitor the job.\n",
    "\n",
    "You can monitor the job using GCP console or from within the notebook using `gcloud` commands."
   ]
  },
  {
   "cell_type": "code",
   "execution_count": null,
   "metadata": {},
   "outputs": [],
   "source": [
    "!gcloud ai-platform jobs describe $JOB_NAME"
   ]
  },
  {
   "cell_type": "code",
   "execution_count": null,
   "metadata": {},
   "outputs": [],
   "source": [
    "!gcloud ai-platform jobs stream-logs $JOB_NAME"
   ]
  },
  {
   "cell_type": "markdown",
   "metadata": {},
   "source": [
    "### Retrieve HP-tuning results."
   ]
  },
  {
   "cell_type": "markdown",
   "metadata": {},
   "source": [
    "After the job completes you can review the results using GCP Console or programatically by calling the AI Platform Training REST end-point."
   ]
  },
  {
   "cell_type": "code",
   "execution_count": null,
   "metadata": {},
   "outputs": [],
   "source": [
    "ml = discovery.build('ml', 'v1')\n",
    "\n",
    "job_id = 'projects/{}/jobs/{}'.format(PROJECT_ID, JOB_NAME)\n",
    "request = ml.projects().jobs().get(name=job_id)\n",
    "\n",
    "try:\n",
    "    response = request.execute()\n",
    "except errors.HttpError as err:\n",
    "    print(err)\n",
    "except:\n",
    "    print(\"Unexpected error\")\n",
    "    \n",
    "response"
   ]
  },
  {
   "cell_type": "markdown",
   "metadata": {},
   "source": [
    "The returned run results are sorted by a value of the optimization metric. The best run is the first item on the returned list."
   ]
  },
  {
   "cell_type": "code",
   "execution_count": null,
   "metadata": {},
   "outputs": [],
   "source": [
    "response['trainingOutput']['trials'][0]"
   ]
  },
  {
   "cell_type": "markdown",
   "metadata": {},
   "source": [
    "## Retrain the model with the best hyperparameters\n",
    "\n",
    "You can now retrain the model using the best hyperparameters and using combined training and validation splits as a training dataset."
   ]
  },
  {
   "cell_type": "markdown",
   "metadata": {},
   "source": [
    "### Configure and run the training job"
   ]
  },
  {
   "cell_type": "code",
   "execution_count": null,
   "metadata": {},
   "outputs": [],
   "source": [
    "alpha = response['trainingOutput']['trials'][0]['hyperparameters']['alpha']\n",
    "max_iter = response['trainingOutput']['trials'][0]['hyperparameters']['max_iter']"
   ]
  },
  {
   "cell_type": "code",
   "execution_count": null,
   "metadata": {},
   "outputs": [],
   "source": [
    "JOB_NAME = \"JOB_{}\".format(time.strftime(\"%Y%m%d_%H%M%S\"))\n",
    "JOB_DIR = \"{}/{}\".format(JOB_DIR_ROOT, JOB_NAME)\n",
    "SCALE_TIER = \"BASIC\"\n",
    "\n",
    "!gcloud ai-platform jobs submit training $JOB_NAME \\\n",
    "--region=$REGION \\\n",
    "--job-dir=$JOB_DIR \\\n",
    "--master-image-uri=$IMAGE_URI \\\n",
    "--scale-tier=$SCALE_TIER \\\n",
    "-- \\\n",
    "--training_dataset_path=$TRAINING_FILE_PATH \\\n",
    "--validation_dataset_path=$VALIDATION_FILE_PATH \\\n",
    "--alpha=$alpha \\\n",
    "--max_iter=$max_iter \\\n",
    "--nohptune"
   ]
  },
  {
   "cell_type": "code",
   "execution_count": null,
   "metadata": {},
   "outputs": [],
   "source": [
    "!gcloud ai-platform jobs stream-logs $JOB_NAME"
   ]
  },
  {
   "cell_type": "markdown",
   "metadata": {},
   "source": [
    "### Examine the training output\n",
    "\n",
    "The training script saved the trained model as the 'model.pkl' in the `JOB_DIR` folder on GCS."
   ]
  },
  {
   "cell_type": "code",
   "execution_count": null,
   "metadata": {},
   "outputs": [],
   "source": [
    "!gsutil ls $JOB_DIR"
   ]
  },
  {
   "cell_type": "markdown",
   "metadata": {},
   "source": [
    "## Deploy the model to AI Platform Prediction"
   ]
  },
  {
   "cell_type": "markdown",
   "metadata": {},
   "source": [
    "### Create a model resource"
   ]
  },
  {
   "cell_type": "code",
   "execution_count": null,
   "metadata": {},
   "outputs": [],
   "source": [
    "model_name = 'forest_cover_classifier'\n",
    "labels = \"task=classifier,domain=forestry\"\n",
    "filter = 'name:{}'.format(model_name)\n",
    "models = !(gcloud ai-platform models list --filter={filter} --format='value(name)')\n",
    "\n",
    "if not models:\n",
    "    !gcloud ai-platform models create  $model_name \\\n",
    "    --regions=$REGION \\\n",
    "    --labels=$labels\n",
    "else:\n",
    "    print(\"Model: {} already exists.\".format(models[0]))"
   ]
  },
  {
   "cell_type": "markdown",
   "metadata": {},
   "source": [
    "### Create a model version"
   ]
  },
  {
   "cell_type": "code",
   "execution_count": null,
   "metadata": {},
   "outputs": [],
   "source": [
    "model_version = 'v01'\n",
    "filter = 'name:{}'.format(model_version)\n",
    "versions = !(gcloud ai-platform versions list --model={model_name} --format='value(name)' --filter={filter})\n",
    "\n",
    "if not versions:\n",
    "    !gcloud ai-platform versions create {model_version} \\\n",
    "    --model={model_name} \\\n",
    "    --origin=$JOB_DIR \\\n",
    "    --runtime-version=1.15 \\\n",
    "    --framework=scikit-learn \\\n",
    "    --python-version=3.7\n",
    "else:\n",
    "    print(\"Model version: {} already exists.\".format(versions[0]))"
   ]
  },
  {
   "cell_type": "markdown",
   "metadata": {},
   "source": [
    "### Serve predictions\n",
    "#### Prepare the input file with JSON formated instances."
   ]
  },
  {
   "cell_type": "code",
   "execution_count": null,
   "metadata": {},
   "outputs": [],
   "source": [
    "input_file = 'serving_instances.json'\n",
    "\n",
    "with open(input_file, 'w') as f:\n",
    "    for index, row in X_validation.head().iterrows():\n",
    "        f.write(json.dumps(list(row.values)))\n",
    "        f.write('\\n')"
   ]
  },
  {
   "cell_type": "code",
   "execution_count": null,
   "metadata": {},
   "outputs": [],
   "source": [
    "!cat $input_file"
   ]
  },
  {
   "cell_type": "markdown",
   "metadata": {},
   "source": [
    "#### Invoke the model"
   ]
  },
  {
   "cell_type": "code",
   "execution_count": null,
   "metadata": {},
   "outputs": [],
   "source": [
    "!gcloud ai-platform predict \\\n",
    "--model $model_name \\\n",
    "--version $model_version \\\n",
    "--json-instances $input_file"
   ]
  },
  {
   "cell_type": "markdown",
   "metadata": {},
   "source": [
    "<font size=-1>Licensed under the Apache License, Version 2.0 (the \\\"License\\\");\n",
    "you may not use this file except in compliance with the License.\n",
    "You may obtain a copy of the License at [https://www.apache.org/licenses/LICENSE-2.0](https://www.apache.org/licenses/LICENSE-2.0)\n",
    "\n",
    "Unless required by applicable law or agreed to in writing, software distributed under the License is distributed on an \\\"AS IS\\\" BASIS, WITHOUT WARRANTIES OR CONDITIONS OF ANY KIND, either express or implied.  See the License for the specific language governing permissions and limitations under the License.</font>"
   ]
  }
 ],
 "metadata": {
  "environment": {
   "name": "common-cpu.m47",
   "type": "gcloud",
   "uri": "gcr.io/deeplearning-platform-release/base-cpu:m47"
  },
  "kernelspec": {
   "display_name": "Python 3",
   "language": "python",
   "name": "python3"
  },
  "language_info": {
   "codemirror_mode": {
    "name": "ipython",
    "version": 3
   },
   "file_extension": ".py",
   "mimetype": "text/x-python",
   "name": "python",
   "nbconvert_exporter": "python",
   "pygments_lexer": "ipython3",
   "version": "3.7.6"
  }
 },
 "nbformat": 4,
 "nbformat_minor": 4
}
